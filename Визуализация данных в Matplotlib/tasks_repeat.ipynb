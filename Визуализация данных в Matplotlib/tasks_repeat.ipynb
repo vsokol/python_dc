{
 "cells": [
  {
   "cell_type": "markdown",
   "id": "de5de6b4",
   "metadata": {},
   "source": [
    "# Задание на повторение материала**"
   ]
  },
  {
   "cell_type": "code",
   "execution_count": 1,
   "id": "e4fda99d",
   "metadata": {},
   "outputs": [],
   "source": [
    "import numpy as np"
   ]
  },
  {
   "cell_type": "markdown",
   "id": "eca4f228",
   "metadata": {},
   "source": [
    "### Задание 1\n",
    "Создать одномерный массив Numpy под названием a из 12 последовательных целых чисел чисел от 12 до 24 невключительно"
   ]
  },
  {
   "cell_type": "code",
   "execution_count": 2,
   "id": "3c0faf7d",
   "metadata": {},
   "outputs": [],
   "source": [
    "a = np.arange(12, 24)"
   ]
  },
  {
   "cell_type": "code",
   "execution_count": 3,
   "id": "5f426c83",
   "metadata": {},
   "outputs": [
    {
     "name": "stdout",
     "output_type": "stream",
     "text": [
      "[12 13 14 15 16 17 18 19 20 21 22 23]\n"
     ]
    }
   ],
   "source": [
    "print(a)"
   ]
  },
  {
   "cell_type": "markdown",
   "id": "1312bb36",
   "metadata": {},
   "source": [
    "### Задание 2\n",
    "Создать 5 двумерных массивов разной формы из массива a. Не использовать в аргументах метода reshape число -1"
   ]
  },
  {
   "cell_type": "code",
   "execution_count": 4,
   "id": "f4211185",
   "metadata": {},
   "outputs": [],
   "source": [
    "a1 = a.reshape((2, 6))\n",
    "a2 = a.reshape((3, 4))\n",
    "a3 = a.reshape((4, 3))\n",
    "a4 = a.reshape((6, 2))\n",
    "a5 = a.reshape((12, 1))"
   ]
  },
  {
   "cell_type": "code",
   "execution_count": 5,
   "id": "34d47d98",
   "metadata": {},
   "outputs": [
    {
     "name": "stdout",
     "output_type": "stream",
     "text": [
      "a1:\n",
      "[[12 13 14 15 16 17]\n",
      " [18 19 20 21 22 23]]\n",
      "a2:\n",
      "[[12 13 14 15]\n",
      " [16 17 18 19]\n",
      " [20 21 22 23]]\n",
      "a3:\n",
      "[[12 13 14]\n",
      " [15 16 17]\n",
      " [18 19 20]\n",
      " [21 22 23]]\n",
      "a4:\n",
      "[[12 13]\n",
      " [14 15]\n",
      " [16 17]\n",
      " [18 19]\n",
      " [20 21]\n",
      " [22 23]]\n",
      "a5:\n",
      "[[12]\n",
      " [13]\n",
      " [14]\n",
      " [15]\n",
      " [16]\n",
      " [17]\n",
      " [18]\n",
      " [19]\n",
      " [20]\n",
      " [21]\n",
      " [22]\n",
      " [23]]\n"
     ]
    }
   ],
   "source": [
    "print('a1:')\n",
    "print(a1)\n",
    "print('a2:')\n",
    "print(a2)\n",
    "print('a3:')\n",
    "print(a3)\n",
    "print('a4:')\n",
    "print(a4)\n",
    "print('a5:')\n",
    "print(a5)"
   ]
  },
  {
   "cell_type": "markdown",
   "id": "c6e16cde",
   "metadata": {},
   "source": [
    "### Задание 3\n",
    "Создать 5 двумерных массивов разной формы из массива a. Использовать в аргументах метода reshape число -1 (в трех примерах - для обозначения числа столбцов, в двух - для строк)"
   ]
  },
  {
   "cell_type": "code",
   "execution_count": 6,
   "id": "7dd22054",
   "metadata": {},
   "outputs": [],
   "source": [
    "b1 = a.reshape((2, -1))\n",
    "b2 = a.reshape((3, -1))\n",
    "b3 = a.reshape((4, -1))\n",
    "b4 = a.reshape((-1, 2))\n",
    "b5 = a.reshape((-1, 1))"
   ]
  },
  {
   "cell_type": "code",
   "execution_count": 7,
   "id": "8f562fe9",
   "metadata": {},
   "outputs": [
    {
     "name": "stdout",
     "output_type": "stream",
     "text": [
      "b1:\n",
      "[[12 13 14 15 16 17]\n",
      " [18 19 20 21 22 23]]\n",
      "b2:\n",
      "[[12 13 14 15]\n",
      " [16 17 18 19]\n",
      " [20 21 22 23]]\n",
      "b3:\n",
      "[[12 13 14]\n",
      " [15 16 17]\n",
      " [18 19 20]\n",
      " [21 22 23]]\n",
      "b4:\n",
      "[[12 13]\n",
      " [14 15]\n",
      " [16 17]\n",
      " [18 19]\n",
      " [20 21]\n",
      " [22 23]]\n",
      "b5:\n",
      "[[12]\n",
      " [13]\n",
      " [14]\n",
      " [15]\n",
      " [16]\n",
      " [17]\n",
      " [18]\n",
      " [19]\n",
      " [20]\n",
      " [21]\n",
      " [22]\n",
      " [23]]\n"
     ]
    }
   ],
   "source": [
    "print('b1:')\n",
    "print(b1)\n",
    "print('b2:')\n",
    "print(b2)\n",
    "print('b3:')\n",
    "print(b3)\n",
    "print('b4:')\n",
    "print(b4)\n",
    "print('b5:')\n",
    "print(b5)"
   ]
  },
  {
   "cell_type": "markdown",
   "id": "693169b5",
   "metadata": {},
   "source": [
    "### Задание 4\n",
    "Можно ли массив Numpy, состоящий из одного столбца и 12 строк, назвать одномерным?"
   ]
  },
  {
   "cell_type": "markdown",
   "id": "693567f2",
   "metadata": {},
   "source": [
    "Ответ: нельзя, так как для обращения к ячейки нужно 2 индекса (строка, столбец), да и ndim покажет, что размерность равна 2"
   ]
  },
  {
   "cell_type": "code",
   "execution_count": 8,
   "id": "0c10368c",
   "metadata": {},
   "outputs": [
    {
     "data": {
      "text/plain": [
       "23"
      ]
     },
     "execution_count": 8,
     "metadata": {},
     "output_type": "execute_result"
    }
   ],
   "source": [
    "a5[11, 0]"
   ]
  },
  {
   "cell_type": "code",
   "execution_count": 9,
   "id": "eb468b5f",
   "metadata": {},
   "outputs": [
    {
     "data": {
      "text/plain": [
       "2"
      ]
     },
     "execution_count": 9,
     "metadata": {},
     "output_type": "execute_result"
    }
   ],
   "source": [
    "a5.ndim"
   ]
  },
  {
   "cell_type": "markdown",
   "id": "184f06a8",
   "metadata": {},
   "source": [
    "### Задание 5\n",
    "Создать массив из 3 строк и 4 столбцов, состоящий из случайных чисел с плавающей запятой из нормального распределения со средним, равным 0 и среднеквадратичным отклонением, равным 1.0. Получить из этого массива одномерный массив с таким же атрибутом size, как и исходный массив."
   ]
  },
  {
   "cell_type": "code",
   "execution_count": 10,
   "id": "555e0310",
   "metadata": {},
   "outputs": [
    {
     "name": "stdout",
     "output_type": "stream",
     "text": [
      "[[-0.92497675 -0.95162579 -1.16289453  0.61899638]\n",
      " [ 0.27189442  0.7450852  -0.23485553 -0.77001911]\n",
      " [ 0.04838687  0.92941159  0.14739213 -0.71248169]]\n"
     ]
    }
   ],
   "source": [
    "a5 = np.random.randn(3, 4)\n",
    "print(a5)"
   ]
  },
  {
   "cell_type": "code",
   "execution_count": 11,
   "id": "3cc7fe95",
   "metadata": {},
   "outputs": [
    {
     "name": "stdout",
     "output_type": "stream",
     "text": [
      "[-0.92497675 -0.95162579 -1.16289453  0.61899638  0.27189442  0.7450852\n",
      " -0.23485553 -0.77001911  0.04838687  0.92941159  0.14739213 -0.71248169]\n"
     ]
    }
   ],
   "source": [
    "b5 = a5.flatten()\n",
    "print(b5)"
   ]
  },
  {
   "cell_type": "code",
   "execution_count": 12,
   "id": "ff62f3e2",
   "metadata": {},
   "outputs": [
    {
     "data": {
      "text/plain": [
       "True"
      ]
     },
     "execution_count": 12,
     "metadata": {},
     "output_type": "execute_result"
    }
   ],
   "source": [
    "a5.size == b5.size"
   ]
  },
  {
   "cell_type": "markdown",
   "id": "f1951171",
   "metadata": {},
   "source": [
    "### Задание 6\n",
    "Создать массив a, состоящий из целых чисел, убывающих от 20 до 0 невключительно с интервалом 2"
   ]
  },
  {
   "cell_type": "code",
   "execution_count": 13,
   "id": "c4f9fa2f",
   "metadata": {},
   "outputs": [
    {
     "name": "stdout",
     "output_type": "stream",
     "text": [
      "[20 18 16 14 12 10  8  6  4  2]\n"
     ]
    }
   ],
   "source": [
    "a = np.arange(20, 0, -2)\n",
    "print(a)"
   ]
  },
  {
   "cell_type": "markdown",
   "id": "b8918ca6",
   "metadata": {},
   "source": [
    "### Задание 7\n",
    "Создать массив b, состоящий из 1 строки и 10 столбцов: целых чисел, убывающих от 20 до 1 невключительно с интервалом 2. В чем разница между массивами a и b?"
   ]
  },
  {
   "cell_type": "code",
   "execution_count": 14,
   "id": "1251ef9d",
   "metadata": {},
   "outputs": [
    {
     "name": "stdout",
     "output_type": "stream",
     "text": [
      "[20 18 16 14 12 10  8  6  4  2]\n"
     ]
    }
   ],
   "source": [
    "b = np.arange(20, 1, -2)\n",
    "print(b)"
   ]
  },
  {
   "cell_type": "code",
   "execution_count": 15,
   "id": "681e2f96",
   "metadata": {},
   "outputs": [
    {
     "name": "stdout",
     "output_type": "stream",
     "text": [
      "Массивы равны\n"
     ]
    }
   ],
   "source": [
    "print('Массивы {}'.format('равны' if np.array_equal(a, b) else 'НЕ равны'))"
   ]
  },
  {
   "cell_type": "markdown",
   "id": "976f8143",
   "metadata": {},
   "source": [
    "#### Ответ: Массивы не отличаются"
   ]
  },
  {
   "cell_type": "markdown",
   "id": "6fb99335",
   "metadata": {},
   "source": [
    "### Задание 8\n",
    "Вертикально соединить массивы a и b. a - двумерный массив из нулей, число строк которого больше 1 и на 1 меньше, чем число строк двумерного массива b, состоящего из единиц. Итоговый массив v должен иметь атрибут size, равный 10."
   ]
  },
  {
   "cell_type": "code",
   "execution_count": 16,
   "id": "14f03670",
   "metadata": {},
   "outputs": [
    {
     "name": "stdout",
     "output_type": "stream",
     "text": [
      "Массив a:\n",
      "[[0. 0.]\n",
      " [0. 0.]]\n",
      "Массив a:\n",
      "[[1. 1.]\n",
      " [1. 1.]\n",
      " [1. 1.]]\n"
     ]
    }
   ],
   "source": [
    "a = np.zeros((2, 2))\n",
    "print('Массив a:', a, sep='\\n')\n",
    "b = np.ones((3, 2))\n",
    "print('Массив a:', b, sep='\\n')"
   ]
  },
  {
   "cell_type": "code",
   "execution_count": 17,
   "id": "ed82f377",
   "metadata": {},
   "outputs": [
    {
     "name": "stdout",
     "output_type": "stream",
     "text": [
      "Массив v:\n",
      "[[0. 0.]\n",
      " [0. 0.]\n",
      " [1. 1.]\n",
      " [1. 1.]\n",
      " [1. 1.]]\n",
      "\n",
      "v.size = 10\n"
     ]
    }
   ],
   "source": [
    "v = np.concatenate((a, b), axis = 0)\n",
    "print('Массив v:', v, sep='\\n')\n",
    "print()\n",
    "print('v.size = {}'.format(v.size))"
   ]
  },
  {
   "cell_type": "markdown",
   "id": "cb345631",
   "metadata": {},
   "source": [
    "### Задание 9\n",
    "Создать одномерный массив а, состоящий из последовательности целых чисел от 0 до 12. Поменять форму этого массива, чтобы получилась матрица A (двумерный массив Numpy), состоящая из 4 строк и 3 столбцов. Получить матрицу At путем транспонирования матрицы A. Получить матрицу B, умножив матрицу A на матрицу At с помощью матричного умножения. Какой размер имеет матрица B? Получится ли вычислить обратную матрицу для матрицы B и почему?"
   ]
  },
  {
   "cell_type": "code",
   "execution_count": 21,
   "id": "0275a23e",
   "metadata": {},
   "outputs": [
    {
     "name": "stdout",
     "output_type": "stream",
     "text": [
      "[ 0  1  2  3  4  5  6  7  8  9 10 11]\n"
     ]
    }
   ],
   "source": [
    "a = np.arange(0, 12)\n",
    "print(a)"
   ]
  },
  {
   "cell_type": "code",
   "execution_count": 23,
   "id": "6b641dc7",
   "metadata": {},
   "outputs": [
    {
     "name": "stdout",
     "output_type": "stream",
     "text": [
      "[[ 0  1  2]\n",
      " [ 3  4  5]\n",
      " [ 6  7  8]\n",
      " [ 9 10 11]]\n"
     ]
    }
   ],
   "source": [
    "A = a.reshape((4,-1))\n",
    "print(A)"
   ]
  },
  {
   "cell_type": "code",
   "execution_count": 26,
   "id": "41c39ad7",
   "metadata": {},
   "outputs": [
    {
     "name": "stdout",
     "output_type": "stream",
     "text": [
      "[[ 0  3  6  9]\n",
      " [ 1  4  7 10]\n",
      " [ 2  5  8 11]]\n"
     ]
    }
   ],
   "source": [
    "At = A.T\n",
    "print(At)"
   ]
  },
  {
   "cell_type": "code",
   "execution_count": 28,
   "id": "bf1ac699",
   "metadata": {},
   "outputs": [
    {
     "name": "stdout",
     "output_type": "stream",
     "text": [
      "[[  5  14  23  32]\n",
      " [ 14  50  86 122]\n",
      " [ 23  86 149 212]\n",
      " [ 32 122 212 302]]\n"
     ]
    }
   ],
   "source": [
    "B = A.dot(At)\n",
    "print(B)"
   ]
  },
  {
   "cell_type": "code",
   "execution_count": 31,
   "id": "81e9cf3d",
   "metadata": {},
   "outputs": [
    {
     "name": "stdout",
     "output_type": "stream",
     "text": [
      "Размерность матрицы B = (4, 4)\n"
     ]
    }
   ],
   "source": [
    "print('Размерность матрицы B = {}'.format(B.shape))"
   ]
  },
  {
   "cell_type": "code",
   "execution_count": 34,
   "id": "ad6518ea",
   "metadata": {},
   "outputs": [
    {
     "name": "stdout",
     "output_type": "stream",
     "text": [
      "Определитель матрицы B = 0.0\n"
     ]
    }
   ],
   "source": [
    "d = np.linalg.det(B)\n",
    "print('Определитель матрицы B = {}'.format(d))"
   ]
  },
  {
   "cell_type": "markdown",
   "id": "970057c0",
   "metadata": {},
   "source": [
    "#### Ответ: для матрицы B не получится получить обратную, так как определитель равен 0"
   ]
  },
  {
   "cell_type": "markdown",
   "id": "3c503d80",
   "metadata": {},
   "source": [
    "### Задание 10\n",
    "Инициализируйте генератор случайных числе с помощью объекта seed, равного 42."
   ]
  },
  {
   "cell_type": "code",
   "execution_count": 36,
   "id": "ae99a6b0",
   "metadata": {},
   "outputs": [],
   "source": [
    "np.random.seed(42)"
   ]
  },
  {
   "cell_type": "markdown",
   "id": "67fff862",
   "metadata": {},
   "source": [
    "### Задание 11\n",
    "Создайте одномерный массив c, составленный из последовательности 16-ти случайных равномерно распределенных целых чисел от 0 до 16 невключительно."
   ]
  },
  {
   "cell_type": "code",
   "execution_count": 41,
   "id": "e69b33c1",
   "metadata": {},
   "outputs": [
    {
     "name": "stdout",
     "output_type": "stream",
     "text": [
      "[14 10  7 12  4  6  9  2  6 10 10  7  4  3  7  7]\n"
     ]
    }
   ],
   "source": [
    "c = np.random.randint(0, 16, (16))\n",
    "print(c)"
   ]
  },
  {
   "cell_type": "markdown",
   "id": "82f76c88",
   "metadata": {},
   "source": [
    "### Задание 12\n",
    "Поменяйте его форму так, чтобы получилась квадратная матрица C. Получите матрицу D, поэлементно прибавив матрицу B из предыдущего вопроса к матрице C, умноженной на 10. Вычислите определитель, ранг и обратную матрицу D_inv для D."
   ]
  },
  {
   "cell_type": "code",
   "execution_count": 42,
   "id": "1ee41553",
   "metadata": {},
   "outputs": [
    {
     "name": "stdout",
     "output_type": "stream",
     "text": [
      "[[14 10  7 12]\n",
      " [ 4  6  9  2]\n",
      " [ 6 10 10  7]\n",
      " [ 4  3  7  7]]\n"
     ]
    }
   ],
   "source": [
    "C = c.reshape(4, -1)\n",
    "print(C)"
   ]
  },
  {
   "cell_type": "code",
   "execution_count": 48,
   "id": "0f1140a5",
   "metadata": {},
   "outputs": [
    {
     "name": "stdout",
     "output_type": "stream",
     "text": [
      "Матрица D:\n",
      "[[ 19  24  30  44]\n",
      " [ 18  56  95 124]\n",
      " [ 29  96 159 219]\n",
      " [ 36 125 219 309]]\n"
     ]
    }
   ],
   "source": [
    "D = C + B\n",
    "print('Матрица D:', D, sep='\\n')"
   ]
  },
  {
   "cell_type": "code",
   "execution_count": 50,
   "id": "42cb1c0d",
   "metadata": {},
   "outputs": [
    {
     "name": "stdout",
     "output_type": "stream",
     "text": [
      "Определитель матрицы D = -111673.00000000003\n"
     ]
    }
   ],
   "source": [
    "d_D = np.linalg.det(D)\n",
    "print(f'Определитель матрицы D = {d_D}')"
   ]
  },
  {
   "cell_type": "code",
   "execution_count": 51,
   "id": "02c53321",
   "metadata": {},
   "outputs": [
    {
     "name": "stdout",
     "output_type": "stream",
     "text": [
      "Ранк матрицы D = 4\n"
     ]
    }
   ],
   "source": [
    "r_D = np.linalg.matrix_rank(D)\n",
    "print(f'Ранк матрицы D = {r_D}')"
   ]
  },
  {
   "cell_type": "code",
   "execution_count": 52,
   "id": "0136e2f2",
   "metadata": {},
   "outputs": [
    {
     "name": "stdout",
     "output_type": "stream",
     "text": [
      "Матрица обратная к D:\n",
      "[[ 0.08470266  0.0892427  -0.14123378  0.0522239 ]\n",
      " [-0.03140419 -0.15677917  0.28484056 -0.13449088]\n",
      " [-0.01653041  0.22457532 -0.16315493  0.02786708]\n",
      " [ 0.01455141 -0.10614025  0.01686173  0.03180715]]\n"
     ]
    }
   ],
   "source": [
    "D_inv = np.linalg.inv(D)\n",
    "print('Матрица обратная к D:', D_inv, sep='\\n')"
   ]
  },
  {
   "cell_type": "markdown",
   "id": "d7ffdec8",
   "metadata": {},
   "source": [
    "Проверка"
   ]
  },
  {
   "cell_type": "code",
   "execution_count": 53,
   "id": "913b1289",
   "metadata": {},
   "outputs": [
    {
     "name": "stdout",
     "output_type": "stream",
     "text": [
      "[[ 1.00000000e+00  1.77635684e-15 -1.77635684e-15 -6.66133815e-16]\n",
      " [-1.24900090e-16  1.00000000e+00  0.00000000e+00 -8.88178420e-16]\n",
      " [ 1.94289029e-16  0.00000000e+00  1.00000000e+00 -8.88178420e-16]\n",
      " [-1.11022302e-16  0.00000000e+00  7.10542736e-15  1.00000000e+00]]\n"
     ]
    }
   ],
   "source": [
    "m = D.dot(D_inv)\n",
    "print(m)"
   ]
  },
  {
   "cell_type": "markdown",
   "id": "5a5d021b",
   "metadata": {},
   "source": [
    "### Задание 13\n",
    "Приравняйте к нулю отрицательные числа в матрице D_inv, а положительные - к единице. Убедитесь, что в матрице D_inv остались только нули и единицы. С помощью функции numpy.where, используя матрицу D_inv в качестве маски, а матрицы B и C - в качестве источников данных, получите матрицу E размером 4x4.  Элементы матрицы E, для которых соответствующий элемент матрицы D_inv равен 1, должны быть равны соответствующему элементу матрицы B, а элементы матрицы E, для которых соответствующий элемент матрицы D_inv равен 0, должны быть равны соответствующему элементу матрицы C."
   ]
  },
  {
   "cell_type": "code",
   "execution_count": 55,
   "id": "5d742294",
   "metadata": {},
   "outputs": [],
   "source": [
    "D_inv[D_inv < 0] = 0\n",
    "D_inv[D_inv > 0] = 1"
   ]
  },
  {
   "cell_type": "code",
   "execution_count": 56,
   "id": "00a47237",
   "metadata": {},
   "outputs": [
    {
     "name": "stdout",
     "output_type": "stream",
     "text": [
      "Матрица D_inv:\n",
      "[[1. 1. 0. 1.]\n",
      " [0. 0. 1. 0.]\n",
      " [0. 1. 0. 1.]\n",
      " [1. 0. 1. 1.]]\n",
      "Матрица B:\n",
      "[[  5  14  23  32]\n",
      " [ 14  50  86 122]\n",
      " [ 23  86 149 212]\n",
      " [ 32 122 212 302]]\n",
      "Матрица C:\n",
      "[[14 10  7 12]\n",
      " [ 4  6  9  2]\n",
      " [ 6 10 10  7]\n",
      " [ 4  3  7  7]]\n"
     ]
    }
   ],
   "source": [
    "print('Матрица D_inv:', D_inv, sep='\\n')\n",
    "print('Матрица B:', B, sep='\\n')\n",
    "print('Матрица C:', C, sep='\\n')"
   ]
  },
  {
   "cell_type": "code",
   "execution_count": 57,
   "id": "6b3e51fb",
   "metadata": {},
   "outputs": [
    {
     "name": "stdout",
     "output_type": "stream",
     "text": [
      "[[  5  14   7  32]\n",
      " [  4   6  86   2]\n",
      " [  6  86  10 212]\n",
      " [ 32   3 212 302]]\n"
     ]
    }
   ],
   "source": [
    "E = np.where(D_inv, B, C)\n",
    "print(E)"
   ]
  }
 ],
 "metadata": {
  "kernelspec": {
   "display_name": "Python 3",
   "language": "python",
   "name": "python3"
  },
  "language_info": {
   "codemirror_mode": {
    "name": "ipython",
    "version": 3
   },
   "file_extension": ".py",
   "mimetype": "text/x-python",
   "name": "python",
   "nbconvert_exporter": "python",
   "pygments_lexer": "ipython3",
   "version": "3.8.8"
  }
 },
 "nbformat": 4,
 "nbformat_minor": 5
}
